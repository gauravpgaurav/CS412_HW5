{
 "cells": [
  {
   "cell_type": "markdown",
   "metadata": {},
   "source": [
    "# Homework 5 : Mini-Project\n",
    "**Gaurav Pant** \n",
    "\n",
    "UIC CS 412, Spring 2018\n",
    "\n",
    "Lorem ipsum dolor sit amet, consectetur adipiscing elit. Duis nec malesuada ex. Sed eu pharetra velit. Aliquam erat volutpat. Nunc ac porta sem.\n",
    "We will only grade the notebook which should describe the steps in your project with a mix of -\n",
    "1. code\n",
    "2. narrative, and \n",
    "3. figures \n",
    "\n",
    "That provides **more information** than your one- page write-up. There is no length limit for this part.\n",
    "\n",
    "Lorem ipsum dolor sit amet, consectetur adipiscing elit. [A Course in Machine Learning](https://github.com/hal3/ciml).\n",
    "\n",
    "## The Task\n",
    "Lorem ipsum dolor sit amet, consectetur adipiscing elit. Duis nec malesuada ex. Sed eu pharetra velit. Aliquam erat volutpat. Nunc ac porta sem. Aenean mattis interdum congue. Aliquam congue feugiat sapien, sed ullamcorper tortor porta sit amet. Etiam pellentesque, neque id vulputate vulputate, nulla urna suscipit elit, tempor congue urna enim sed nibh. Maecenas non quam ac turpis placerat vestibulum vitae sit amet sem. Proin dignissim arcu sit amet ornare finibus. Quisque at ipsum eu urna iaculis elementum eget porta mi. Cras sed condimentum nibh. Sed varius erat eros, a vulputate felis consequat eu. Nunc cursus diam non felis pharetra, a porttitor turpis ornare. **You will be graded based on creativity, clarity, completeness, and valid justification for all the steps in the project.**\n",
    "\n",
    "## The Dataset & Preprocessing\n",
    "Lorem ipsum dolor sit amet, consectetur adipiscing elit. Duis nec malesuada ex. Sed eu pharetra velit. Aliquam erat volutpat. Nunc ac porta sem. Aenean mattis interdum congue. Aliquam congue feugiat sapien, sed ullamcorper tortor porta sit amet. Etiam pellentesque, neque id vulputate vulputate, nulla urna suscipit elit, tempor congue urna enim sed nibh. Maecenas non quam ac turpis placerat vestibulum vitae sit amet sem. Proin dignissim arcu sit amet ornare finibus. Quisque at ipsum eu urna iaculis elementum eget porta mi. Cras sed condimentum nibh. Sed varius erat eros, a vulputate felis consequat eu. Nunc cursus diam non felis pharetra, a porttitor turpis ornare.\n",
    "\n",
    "## The Solution\n",
    "\n",
    "### The ML Solution\n",
    "Lorem ipsum dolor sit amet, consectetur adipiscing elit. Duis nec malesuada ex. Sed eu pharetra velit. Aliquam erat volutpat. Nunc ac porta sem. Aenean mattis interdum congue. Aliquam congue feugiat sapien, sed ullamcorper tortor porta sit amet. Etiam pellentesque, neque id vulputate vulputate, nulla urna suscipit elit, tempor congue urna enim sed nibh. Maecenas non quam ac turpis placerat vestibulum vitae sit amet sem. Proin dignissim arcu sit amet ornare finibus. Quisque at ipsum eu urna iaculis elementum eget porta mi. Cras sed condimentum nibh. Sed varius erat eros, a vulputate felis consequat eu. Nunc cursus diam non felis pharetra, a porttitor turpis ornare.\n",
    "**what software did you use and why did you choose it?**\n",
    "\n",
    "### The Result\n",
    "Lorem ipsum dolor sit amet, consectetur adipiscing elit. Duis nec malesuada ex. Sed eu pharetra velit. Aliquam erat volutpat. Nunc ac porta sem. Aenean mattis interdum congue. Aliquam congue feugiat sapien, sed ullamcorper tortor porta sit amet. Etiam pellentesque, neque id vulputate vulputate, nulla urna suscipit elit, tempor congue urna enim sed nibh. Maecenas non quam ac turpis placerat vestibulum vitae sit amet sem. Proin dignissim arcu sit amet ornare finibus. Quisque at ipsum eu urna iaculis elementum eget porta mi. Cras sed condimentum nibh. Sed varius erat eros, a vulputate felis consequat eu. Nunc cursus diam non felis pharetra, a porttitor turpis ornare.\n",
    "**show some examples from the development data that your approach got correct and some it got wrong: if you were to try to fix the ones it got wrong, what would you do?**\n",
    "\n",
    "## The Experiment Process\n",
    "\n",
    "### Experiment Setup\n",
    "Lorem ipsum dolor sit amet, consectetur adipiscing elit. Duis nec malesuada ex. Sed eu pharetra velit. Aliquam erat volutpat. Nunc ac porta sem. Aenean mattis interdum congue. Aliquam congue feugiat sapien, sed ullamcorper tortor porta sit amet. Etiam pellentesque, neque id vulputate vulputate, nulla urna suscipit elit, tempor congue urna enim sed nibh. Maecenas non quam ac turpis placerat vestibulum vitae sit amet sem. Proin dignissim arcu sit amet ornare finibus. Quisque at ipsum eu urna iaculis elementum eget porta mi. Cras sed condimentum nibh. Sed varius erat eros, a vulputate felis consequat eu. Nunc cursus diam non felis pharetra, a porttitor turpis ornare.\n",
    "\n",
    "``dumbClassifiers.py``: This contains a handful of \"warm up\"\n",
    "classifiers to get you used to our classification framework.\n",
    "  \n",
    "``dt.py``: Will be your simple implementation of a decision tree classifier.\n",
    "  \n",
    "``knn.py``: This is where your nearest-neighbor classifier modifications\n",
    "will go.\n",
    "\n",
    "``perceptron.py``: The perceptron file you need to edit.\n",
    "\n",
    "### The Evaluation Process\n",
    "Lorem ipsum dolor sit amet, consectetur adipiscing elit. Duis nec malesuada ex. Sed eu pharetra velit. Aliquam erat volutpat. Nunc ac porta sem. Aenean mattis interdum congue. Aliquam congue feugiat sapien, sed ullamcorper tortor porta sit amet. Etiam pellentesque, neque id vulputate vulputate, nulla urna suscipit elit, tempor congue urna enim sed nibh. Maecenas non quam ac turpis placerat vestibulum vitae sit amet sem. Proin dignissim arcu sit amet ornare finibus. Quisque at ipsum eu urna iaculis elementum eget porta mi. Cras sed condimentum nibh. Sed varius erat eros, a vulputate felis consequat eu. Nunc cursus diam non felis pharetra, a porttitor turpis ornare."
   ]
  },
  {
   "cell_type": "code",
   "execution_count": null,
   "metadata": {
    "collapsed": true
   },
   "outputs": [],
   "source": []
  }
 ],
 "metadata": {
  "kernelspec": {
   "display_name": "Python 3",
   "language": "python",
   "name": "python3"
  },
  "language_info": {
   "codemirror_mode": {
    "name": "ipython",
    "version": 3
   },
   "file_extension": ".py",
   "mimetype": "text/x-python",
   "name": "python",
   "nbconvert_exporter": "python",
   "pygments_lexer": "ipython3",
   "version": "3.6.3"
  }
 },
 "nbformat": 4,
 "nbformat_minor": 2
}
